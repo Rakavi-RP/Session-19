{
  "nbformat": 4,
  "nbformat_minor": 0,
  "metadata": {
    "colab": {
      "provenance": []
    },
    "kernelspec": {
      "name": "python3",
      "display_name": "Python 3"
    },
    "language_info": {
      "name": "python"
    }
  },
  "cells": [
    {
      "cell_type": "code",
      "source": [
        "import numpy as np"
      ],
      "metadata": {
        "id": "rMlb1kB0r48I"
      },
      "execution_count": 3,
      "outputs": []
    },
    {
      "cell_type": "code",
      "source": [
        "def calculate_gridworld_values():\n",
        "    # Grid parameters\n",
        "    N = 4  # 4x4 grid\n",
        "    states = N * N\n",
        "    terminal_state = states - 1  # Bottom-right corner (state 15)\n",
        "\n",
        "    # Initialize value function with zeros\n",
        "    V = np.zeros((N, N))\n",
        "\n",
        "    # Rewards: -1 for each move, 0 for terminal state\n",
        "    rewards = np.full((N, N), -1)\n",
        "    rewards[N-1, N-1] = 0  # Terminal state has 0 reward\n",
        "\n",
        "    # Define possible actions: up, down, left, right\n",
        "    actions = [(-1, 0), (1, 0), (0, -1), (0, 1)]\n",
        "\n",
        "    # Parameters\n",
        "    gamma = 1.0  # No discounting\n",
        "    theta = 1e-4  # Convergence threshold\n",
        "\n",
        "    # Value iteration\n",
        "    iteration = 0\n",
        "    while True:\n",
        "        iteration += 1\n",
        "        delta = 0  # Track maximum change\n",
        "        V_new = np.copy(V)\n",
        "\n",
        "        # For each state\n",
        "        for i in range(N):\n",
        "            for j in range(N):\n",
        "                if i == N-1 and j == N-1:  # Skip terminal state\n",
        "                    continue\n",
        "\n",
        "                v = 0\n",
        "                # For each action (with equal probability 0.25)\n",
        "                for action in actions:\n",
        "                    next_i = max(0, min(N-1, i + action[0]))\n",
        "                    next_j = max(0, min(N-1, j + action[1]))\n",
        "\n",
        "                    # Calculate expected value\n",
        "                    v += 0.25 * (rewards[i, j] + gamma * V[next_i, next_j])\n",
        "\n",
        "                V_new[i, j] = v\n",
        "                delta = max(delta, abs(V_new[i, j] - V[i, j]))\n",
        "\n",
        "        # Update value function\n",
        "        V = V_new\n",
        "\n",
        "        # Check for convergence\n",
        "        if delta < theta:\n",
        "            print(f\"Converged after {iteration} iterations.\")\n",
        "            break\n",
        "\n",
        "    return V\n",
        "\n",
        "if __name__ == \"__main__\":\n",
        "    final_values = calculate_gridworld_values()\n",
        "    print(\"Final Value Function:\")\n",
        "    print(final_values)"
      ],
      "metadata": {
        "colab": {
          "base_uri": "https://localhost:8080/"
        },
        "id": "oUS3Gj3HosHc",
        "outputId": "ccf171ac-4bdd-48f9-ae1f-f5df6c649a1d"
      },
      "execution_count": 4,
      "outputs": [
        {
          "output_type": "stream",
          "name": "stdout",
          "text": [
            "Converged after 471 iterations.\n",
            "Final Value Function:\n",
            "[[-59.42367735 -57.42387125 -54.2813141  -51.71012579]\n",
            " [-57.42387125 -54.56699476 -49.71029394 -45.13926711]\n",
            " [-54.2813141  -49.71029394 -40.85391609 -29.99766609]\n",
            " [-51.71012579 -45.13926711 -29.99766609   0.        ]]\n"
          ]
        }
      ]
    }
  ]
}